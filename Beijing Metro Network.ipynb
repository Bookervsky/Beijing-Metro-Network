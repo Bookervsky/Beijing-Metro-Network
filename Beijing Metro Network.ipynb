{
 "cells": [
  {
   "cell_type": "code",
   "execution_count": 1,
   "metadata": {},
   "outputs": [],
   "source": [
    "import json\n",
    "import pandas as pd\n",
    "import urllib\n",
    "import networkx as nx\n",
    "from geopy import distance\n",
    "from calculate_distance_between_stations import *"
   ]
  },
  {
   "cell_type": "markdown",
   "metadata": {},
   "source": [
    "#### 1.提取北京地铁站点数据"
   ]
  },
  {
   "cell_type": "code",
   "execution_count": null,
   "metadata": {},
   "outputs": [],
   "source": [
    "#读取subway.json文件,数据来源：高德地图地铁图 https://map.amap.com/subway/index.html\n",
    "\n",
    "url = \"https://map.amap.com/service/subway?_1715741114049&srhdata=1100_drw_beijing.json\"\n",
    "filename = \"subway_data.json\"\n",
    "\n",
    "file = urllib.request.urlretrieve(url, filename)\n",
    "#return a tuple (filename, headers)\n",
    "\n",
    "#打开json文件\n",
    "with open (file[0],\"r\",encoding='utf-8') as f:\n",
    "    data = json.load(f)\n",
    "#data文件详见'subway_data.json'，其中'n'为站名，'sl'为经纬度数据"
   ]
  },
  {
   "cell_type": "code",
   "execution_count": 3,
   "metadata": {},
   "outputs": [
    {
     "data": {
      "text/html": [
       "<div>\n",
       "<style scoped>\n",
       "    .dataframe tbody tr th:only-of-type {\n",
       "        vertical-align: middle;\n",
       "    }\n",
       "\n",
       "    .dataframe tbody tr th {\n",
       "        vertical-align: top;\n",
       "    }\n",
       "\n",
       "    .dataframe thead th {\n",
       "        text-align: right;\n",
       "    }\n",
       "</style>\n",
       "<table border=\"1\" class=\"dataframe\">\n",
       "  <thead>\n",
       "    <tr style=\"text-align: right;\">\n",
       "      <th></th>\n",
       "      <th>StationName</th>\n",
       "      <th>lng</th>\n",
       "      <th>lat</th>\n",
       "      <th>line</th>\n",
       "    </tr>\n",
       "  </thead>\n",
       "  <tbody>\n",
       "    <tr>\n",
       "      <th>0</th>\n",
       "      <td>苹果园</td>\n",
       "      <td>116.178945</td>\n",
       "      <td>39.925686</td>\n",
       "      <td>S1线</td>\n",
       "    </tr>\n",
       "    <tr>\n",
       "      <th>1</th>\n",
       "      <td>金安桥</td>\n",
       "      <td>116.162586</td>\n",
       "      <td>39.923298</td>\n",
       "      <td>S1线</td>\n",
       "    </tr>\n",
       "    <tr>\n",
       "      <th>2</th>\n",
       "      <td>四道桥</td>\n",
       "      <td>116.134010</td>\n",
       "      <td>39.916030</td>\n",
       "      <td>S1线</td>\n",
       "    </tr>\n",
       "    <tr>\n",
       "      <th>3</th>\n",
       "      <td>桥户营</td>\n",
       "      <td>116.125809</td>\n",
       "      <td>39.912383</td>\n",
       "      <td>S1线</td>\n",
       "    </tr>\n",
       "    <tr>\n",
       "      <th>4</th>\n",
       "      <td>上岸</td>\n",
       "      <td>116.122225</td>\n",
       "      <td>39.905138</td>\n",
       "      <td>S1线</td>\n",
       "    </tr>\n",
       "  </tbody>\n",
       "</table>\n",
       "</div>"
      ],
      "text/plain": [
       "  StationName         lng        lat line\n",
       "0         苹果园  116.178945  39.925686  S1线\n",
       "1         金安桥  116.162586  39.923298  S1线\n",
       "2         四道桥  116.134010  39.916030  S1线\n",
       "3         桥户营  116.125809  39.912383  S1线\n",
       "4          上岸  116.122225  39.905138  S1线"
      ]
     },
     "execution_count": 3,
     "metadata": {},
     "output_type": "execute_result"
    }
   ],
   "source": [
    "subwayline = data['l']\n",
    "#我们需要站名、经度、纬度、线路名四个数据，创建包含列名为['StationName','lng','lat','line']的空dataframe\n",
    "df = pd.DataFrame(columns=['StationName','lng','lat','line'])\n",
    "\n",
    "#爬取地铁站名、经度、纬度、线路名数据\n",
    "for i in range(len(subwayline)):\n",
    "    #subwayline[i]为北京地铁某条线路的信息\n",
    "    item = subwayline[i]['st']\n",
    "    line = subwayline[i]['ln']\n",
    "    for station in item:\n",
    "    #station为某条地铁线路的某地铁站点的信息\n",
    "        name = station['n']\n",
    "        lng = station['sl'].split(',')[0]\n",
    "        lat = station['sl'].split(',')[1]\n",
    "        line = line\n",
    "        df.loc[len(df)] = [name,lng,lat,line]\n",
    "df.head()"
   ]
  },
  {
   "cell_type": "code",
   "execution_count": 4,
   "metadata": {},
   "outputs": [],
   "source": [
    "lines_tuple = list(df.groupby('line'))\n",
    "#lines_tuple为一个列表，每个元素为一个元组，元组的第一个元素为线路名，第二个元素为该线路的所有站点信息"
   ]
  },
  {
   "cell_type": "markdown",
   "metadata": {},
   "source": [
    "#### 2.构建北京地铁graph"
   ]
  },
  {
   "cell_type": "markdown",
   "metadata": {},
   "source": [
    "##### 2.1构建没有权重的undirected graph"
   ]
  },
  {
   "cell_type": "code",
   "execution_count": 5,
   "metadata": {},
   "outputs": [],
   "source": [
    "#构建没有权重的undirected graph，注意2号线、10号线是环线，在构建graph时需要联通首尾\n",
    "G = nx.Graph()\n",
    "for line in lines_tuple:\n",
    "    if line[0] in ['2号线','10号线']:\n",
    "        for i in range(len(line[1])-1):\n",
    "            G.add_edge(line[1].iloc[i]['StationName'],line[1].iloc[i+1]['StationName'])\n",
    "        #联通环线（2号线、10号线）的首尾站点\n",
    "        G.add_edge(line[1].iloc[0]['StationName'],line[1].iloc[-1]['StationName'])\n",
    "    else:\n",
    "        for i in range(len(line[1])-1):\n",
    "            G.add_edge(line[1].iloc[i]['StationName'],line[1].iloc[i+1]['StationName'])"
   ]
  },
  {
   "cell_type": "markdown",
   "metadata": {},
   "source": [
    "##### 2.2计算地铁站点间距离，此处使用曼哈顿距离"
   ]
  },
  {
   "cell_type": "code",
   "execution_count": 6,
   "metadata": {},
   "outputs": [],
   "source": [
    "lines = pd.DataFrame(columns=['SStation','S_lng','S_lat','line','EStation','E_lng','E_lat'])\n",
    "for line in lines_tuple:\n",
    "    route = line[1].copy()\n",
    "    route.columns = ['SStation','S_lng','S_lat','line']\n",
    "    route['EStation'] = route['SStation'].shift(-1)\n",
    "    route['E_lng'] = route['S_lng'].shift(-1)\n",
    "    route['E_lat'] = route['S_lat'].shift(-1)\n",
    "\n",
    "    #2号线喝10号线是环线\n",
    "    if line[0] in ['2号线','10号线']:\n",
    "        route.iloc[-1,-3:] = route.iloc[0,:3]\n",
    "    lines = pd.concat([lines,route],axis=0)\n",
    "lines.dropna(inplace=True,axis=0)\n",
    "\n",
    "lines['manhattan_distance'] = lines.apply(lambda row:manhattan_distance(row['S_lat'],row['S_lng'],row['E_lat'],row['E_lng']),axis=1)"
   ]
  },
  {
   "cell_type": "markdown",
   "metadata": {},
   "source": [
    "##### 2.3给每个edge赋予权重，权重为两地铁站点之间的距离"
   ]
  },
  {
   "cell_type": "code",
   "execution_count": 7,
   "metadata": {},
   "outputs": [],
   "source": [
    "# Iterate over the edges in G\n",
    "for u, v in G.edges():\n",
    "    # Check if there is a corresponding row in amap_distance    \n",
    "    mask = (lines['SStation'] == u) & (lines['EStation'] == v) | (lines['SStation'] == v) & (lines['EStation'] == u)\n",
    "    if mask.any():\n",
    "        # Get the distance value from amap_distance\n",
    "        distance = lines.loc[mask, 'manhattan_distance'].values[0]\n",
    "        # Add the distance as an attribute to the edge in G\n",
    "        G[u][v]['weight'] = distance"
   ]
  },
  {
   "cell_type": "code",
   "execution_count": 8,
   "metadata": {},
   "outputs": [],
   "source": [
    "#检查是否有边的权重为None或0\n",
    "for u, v, weight in G.edges(data='weight'):\n",
    "    if weight is None or weight == 0:\n",
    "        print(f\"Edge ({u}, {v}) has weight {weight}\")"
   ]
  },
  {
   "cell_type": "code",
   "execution_count": 9,
   "metadata": {},
   "outputs": [
    {
     "data": {
      "text/html": [
       "<div>\n",
       "<style scoped>\n",
       "    .dataframe tbody tr th:only-of-type {\n",
       "        vertical-align: middle;\n",
       "    }\n",
       "\n",
       "    .dataframe tbody tr th {\n",
       "        vertical-align: top;\n",
       "    }\n",
       "\n",
       "    .dataframe thead th {\n",
       "        text-align: right;\n",
       "    }\n",
       "</style>\n",
       "<table border=\"1\" class=\"dataframe\">\n",
       "  <thead>\n",
       "    <tr style=\"text-align: right;\">\n",
       "      <th></th>\n",
       "      <th>StationName</th>\n",
       "      <th>closeness_centrality</th>\n",
       "    </tr>\n",
       "  </thead>\n",
       "  <tbody>\n",
       "    <tr>\n",
       "      <th>0</th>\n",
       "      <td>巴沟</td>\n",
       "      <td>0.042203</td>\n",
       "    </tr>\n",
       "    <tr>\n",
       "      <th>1</th>\n",
       "      <td>苏州街</td>\n",
       "      <td>0.043602</td>\n",
       "    </tr>\n",
       "    <tr>\n",
       "      <th>2</th>\n",
       "      <td>海淀黄庄</td>\n",
       "      <td>0.045069</td>\n",
       "    </tr>\n",
       "    <tr>\n",
       "      <th>3</th>\n",
       "      <td>知春里</td>\n",
       "      <td>0.045759</td>\n",
       "    </tr>\n",
       "    <tr>\n",
       "      <th>4</th>\n",
       "      <td>知春路</td>\n",
       "      <td>0.046571</td>\n",
       "    </tr>\n",
       "    <tr>\n",
       "      <th>...</th>\n",
       "      <td>...</td>\n",
       "      <td>...</td>\n",
       "    </tr>\n",
       "    <tr>\n",
       "      <th>381</th>\n",
       "      <td>万安</td>\n",
       "      <td>0.032618</td>\n",
       "    </tr>\n",
       "    <tr>\n",
       "      <th>382</th>\n",
       "      <td>国家植物园</td>\n",
       "      <td>0.030224</td>\n",
       "    </tr>\n",
       "    <tr>\n",
       "      <th>383</th>\n",
       "      <td>香山</td>\n",
       "      <td>0.029325</td>\n",
       "    </tr>\n",
       "    <tr>\n",
       "      <th>384</th>\n",
       "      <td>3号航站楼</td>\n",
       "      <td>0.019505</td>\n",
       "    </tr>\n",
       "    <tr>\n",
       "      <th>385</th>\n",
       "      <td>2号航站楼</td>\n",
       "      <td>0.021562</td>\n",
       "    </tr>\n",
       "  </tbody>\n",
       "</table>\n",
       "<p>386 rows × 2 columns</p>\n",
       "</div>"
      ],
      "text/plain": [
       "    StationName  closeness_centrality\n",
       "0            巴沟              0.042203\n",
       "1           苏州街              0.043602\n",
       "2          海淀黄庄              0.045069\n",
       "3           知春里              0.045759\n",
       "4           知春路              0.046571\n",
       "..          ...                   ...\n",
       "381          万安              0.032618\n",
       "382       国家植物园              0.030224\n",
       "383          香山              0.029325\n",
       "384       3号航站楼              0.019505\n",
       "385       2号航站楼              0.021562\n",
       "\n",
       "[386 rows x 2 columns]"
      ]
     },
     "execution_count": 9,
     "metadata": {},
     "output_type": "execute_result"
    }
   ],
   "source": [
    "#计算closeness centrality\n",
    "closeness = nx.closeness_centrality(G,distance='weight')\n",
    "closeness_centrality = pd.DataFrame(zip(closeness.keys(),closeness.values()),columns=['StationName','closeness_centrality'])\n",
    "closeness_centrality"
   ]
  },
  {
   "cell_type": "code",
   "execution_count": 10,
   "metadata": {},
   "outputs": [],
   "source": [
    "closeness_centrality.to_csv('closeness_centrality.csv',index=False)"
   ]
  }
 ],
 "metadata": {
  "kernelspec": {
   "display_name": "base",
   "language": "python",
   "name": "python3"
  },
  "language_info": {
   "codemirror_mode": {
    "name": "ipython",
    "version": 3
   },
   "file_extension": ".py",
   "mimetype": "text/x-python",
   "name": "python",
   "nbconvert_exporter": "python",
   "pygments_lexer": "ipython3",
   "version": "3.11.5"
  }
 },
 "nbformat": 4,
 "nbformat_minor": 2
}
